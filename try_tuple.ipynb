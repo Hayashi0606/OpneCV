{
 "cells": [
  {
   "cell_type": "code",
   "execution_count": null,
   "metadata": {},
   "outputs": [],
   "source": [
    "import numpy as np\n",
    "\n",
    "def calculate_tuple_stats(data_tuple):\n",
    "    data_array = np.array(data_tuple)  \n",
    "    total = np.sum(data_array)  \n",
    "    average = np.mean(data_array)  \n",
    "    return total, average  \n",
    "\n",
    "\n",
    "data_tuple = (4, 7, 2, 9, 5)\n",
    "\n",
    "\n",
    "result_total, result_average = calculate_tuple_stats(data_tuple)\n",
    "\n",
    "\n",
    "print(f\"Total: {result_total}\")\n",
    "print(f\"Average: {result_average}\")"
   ]
  }
 ],
 "metadata": {
  "language_info": {
   "name": "python"
  },
  "orig_nbformat": 4
 },
 "nbformat": 4,
 "nbformat_minor": 2
}
